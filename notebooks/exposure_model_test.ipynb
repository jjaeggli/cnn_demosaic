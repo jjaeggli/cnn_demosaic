{
 "cells": [
  {
   "cell_type": "code",
   "execution_count": null,
   "id": "75c3b7b0-8d02-418b-96eb-71b17d961456",
   "metadata": {},
   "outputs": [],
   "source": [
    "import numpy as np\n",
    "import pathlib\n",
    "import pyexr\n",
    "import rawpy\n",
    "import tensorflow as tf\n",
    "\n",
    "# Prevent TensorFlow from allocating all GPU memory.\n",
    "gpus = tf.config.experimental.list_physical_devices(\"GPU\")\n",
    "for gpu in gpus:\n",
    "    tf.config.experimental.set_memory_growth(gpu, True)"
   ]
  },
  {
   "cell_type": "code",
   "execution_count": null,
   "id": "63ea1182-f7c9-43c9-a235-997cf8b2ca0f",
   "metadata": {},
   "outputs": [],
   "source": [
    "from cnn_demosaic import exposure\n",
    "from cnn_demosaic import exposure_model\n",
    "from matplotlib import pyplot as plt"
   ]
  },
  {
   "cell_type": "code",
   "execution_count": null,
   "id": "2c779bb7-36f7-4113-a339-f49930422dff",
   "metadata": {},
   "outputs": [],
   "source": [
    "def display_image(image):\n",
    "    plt.imshow(image, vmin=0, vmax=1, cmap=\"gray\")\n",
    "    plt.show()\n",
    "\n",
    "\n",
    "def to_color_arr(img_arr):\n",
    "    \"\"\"Flatten the 2D image to an array.\"\"\"\n",
    "    rgb_arr = img_arr[:, :, :3]\n",
    "    return rgb_arr.reshape((rgb_arr.size // 3, 3))"
   ]
  },
  {
   "cell_type": "code",
   "execution_count": null,
   "id": "fe09fc8f-30a2-4fd8-bab5-56f1a696fe80",
   "metadata": {},
   "outputs": [],
   "source": [
    "EXPOSURE_MODEL_PATH = \"./exp_model_32_16_4.weights.h5\"\n",
    "EXPOSURE_MODEL_PATH_NEW = \"./exp_model_32_16_5.weights.h5\"\n",
    "\n",
    "DATASET_PREFIX = \"/media/jake/Media/datasets/fuji_raw/xe2\"\n",
    "\n",
    "TEST_EXR_PATH = f\"{DATASET_PREFIX}/train/DSCF5796.exr\"\n",
    "\n",
    "TRAINING_PATH = pathlib.Path(f\"{DATASET_PREFIX}/train\")\n",
    "VALIDATION_PATH = pathlib.Path(f\"{DATASET_PREFIX}/val\")\n",
    "\n",
    "VALIDATION_FILES = list(VALIDATION_PATH.glob(\"*.exr\"))"
   ]
  },
  {
   "cell_type": "code",
   "execution_count": null,
   "id": "871949bc-feab-49d1-8070-bfde0700edf3",
   "metadata": {},
   "outputs": [],
   "source": [
    "exp_model = exposure_model.create_exposure_model(EXPOSURE_MODEL_PATH)\n",
    "exp = exposure.Exposure(exp_model)\n",
    "\n",
    "exp_model_new = exposure_model.create_exposure_model(EXPOSURE_MODEL_PATH_NEW)\n",
    "exp_new = exposure.Exposure(exp_model_new)"
   ]
  },
  {
   "cell_type": "code",
   "execution_count": null,
   "id": "879c671c-d29b-4e65-bbc5-8c75bad95df3",
   "metadata": {},
   "outputs": [],
   "source": [
    "def process_exposure(exr_path, processor):\n",
    "    exr_img_arr = pyexr.read(f\"{exr_path}\")[:, :, :3]\n",
    "    orig_shape = exr_img_arr.shape\n",
    "    output_arr = processor.process(to_color_arr(exr_img_arr))\n",
    "    display_image(np.asarray(output_arr).reshape(orig_shape))"
   ]
  },
  {
   "cell_type": "code",
   "execution_count": null,
   "id": "88190bef-86c4-400e-b4dc-a48dc743a8f7",
   "metadata": {},
   "outputs": [],
   "source": [
    "process_exposure(TEST_EXR_PATH, exp)\n",
    "process_exposure(TEST_EXR_PATH, exp_new)"
   ]
  },
  {
   "cell_type": "code",
   "execution_count": null,
   "id": "d364486d-2609-4cef-8245-0868fffd0b83",
   "metadata": {},
   "outputs": [],
   "source": [
    "for f in VALIDATION_FILES:\n",
    "    process_exposure(f, exp)\n",
    "    process_exposure(f, exp_new)"
   ]
  }
 ],
 "metadata": {
  "kernelspec": {
   "display_name": "Python 3 (ipykernel)",
   "language": "python",
   "name": "python3"
  },
  "language_info": {
   "codemirror_mode": {
    "name": "ipython",
    "version": 3
   },
   "file_extension": ".py",
   "mimetype": "text/x-python",
   "name": "python",
   "nbconvert_exporter": "python",
   "pygments_lexer": "ipython3",
   "version": "3.10.12"
  }
 },
 "nbformat": 4,
 "nbformat_minor": 5
}
